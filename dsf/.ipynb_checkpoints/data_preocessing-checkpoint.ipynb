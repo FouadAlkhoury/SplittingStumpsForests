{
 "cells": [
  {
   "cell_type": "code",
   "execution_count": 2,
   "id": "e15d6c83",
   "metadata": {},
   "outputs": [],
   "source": [
    "import os\n",
    "dataPath = \"../data/\"\n",
    "dataset = 'spambase'\n",
    "data_file = os.path.join(dataPath, dataset+'/', dataset)\n",
    "data_all = data_file +'_all.train'\n",
    "data_train = data_file +'.train'\n",
    "data_test = data_file +'.test'\n",
    "\n",
    "file_write_train = open(data_train,'w')\n",
    "file_write_test = open(data_test,'w')\n",
    "file_read = open(data_all,'r')\n",
    "lines = file_read.readlines()\n",
    "for i in range(len(lines)):\n",
    "    if ('NaN' not in lines[i]):\n",
    "        \n",
    "        if (i %5 != 0):\n",
    "            file_write_train.write(lines[i])\n",
    "        else:\n",
    "            file_write_test.write(lines[i])\n",
    "        \n",
    "        \n",
    "    \n",
    "    \n",
    "\n",
    "file_write_train.close()\n",
    "file_read.close()"
   ]
  },
  {
   "cell_type": "code",
   "execution_count": 4,
   "id": "fb70ef70",
   "metadata": {},
   "outputs": [
    {
     "name": "stdout",
     "output_type": "stream",
     "text": [
      "0\n",
      "1\n",
      "2\n",
      "3\n",
      "4\n",
      "5\n",
      "6\n",
      "7\n",
      "8\n",
      "9\n"
     ]
    }
   ],
   "source": [
    "for i in range(10):\n",
    "    print(i)"
   ]
  },
  {
   "cell_type": "code",
   "execution_count": null,
   "id": "c4a91ad8",
   "metadata": {},
   "outputs": [],
   "source": []
  }
 ],
 "metadata": {
  "kernelspec": {
   "display_name": "Python 3 (ipykernel)",
   "language": "python",
   "name": "python3"
  },
  "language_info": {
   "codemirror_mode": {
    "name": "ipython",
    "version": 3
   },
   "file_extension": ".py",
   "mimetype": "text/x-python",
   "name": "python",
   "nbconvert_exporter": "python",
   "pygments_lexer": "ipython3",
   "version": "3.9.5"
  }
 },
 "nbformat": 4,
 "nbformat_minor": 5
}
