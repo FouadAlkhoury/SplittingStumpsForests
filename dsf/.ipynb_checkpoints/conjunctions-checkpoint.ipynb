{
 "cells": [
  {
   "cell_type": "code",
   "execution_count": 6,
   "id": "1455de3b",
   "metadata": {},
   "outputs": [
    {
     "name": "stdout",
     "output_type": "stream",
     "text": [
      "214\n",
      "13\n",
      "741\n",
      "426\n",
      "720\n",
      "643\n",
      "463\n",
      "408\n",
      "879\n",
      "602\n",
      "{643, 741, 426, 13, 463, 720, 879, 214, 408, 602}\n"
     ]
    }
   ],
   "source": [
    "import numpy as np\n",
    "import random\n",
    "\n",
    "n = 1000\n",
    "data_length = 20000\n",
    "variables_set = set()\n",
    "function_length = 10\n",
    "while (len(variables_set) < function_length):\n",
    "    \n",
    "    r = random.randint(0,n-1)\n",
    "    print(r)\n",
    "    variables_set.add(r)\n",
    "    \n",
    "print(variables_set)"
   ]
  },
  {
   "cell_type": "code",
   "execution_count": 7,
   "id": "92053472",
   "metadata": {},
   "outputs": [],
   "source": [
    "boolean_list = []\n",
    "for v in variables_set:\n",
    "    t = random.randint(1,100)\n",
    "    #print(t)\n",
    "    if(t >= 50):\n",
    "        boolean_list.append(1)\n",
    "    else:\n",
    "        boolean_list.append(0)\n",
    "#print(variables_set)\n",
    "#print(boolean_list)"
   ]
  },
  {
   "cell_type": "code",
   "execution_count": 8,
   "id": "84eadd0b",
   "metadata": {},
   "outputs": [
    {
     "name": "stdout",
     "output_type": "stream",
     "text": [
      " \n",
      "643 and \n",
      " \n",
      "741 and \n",
      " not \n",
      "426 and \n",
      " not \n",
      "13 and \n",
      " \n",
      "463 and \n",
      " \n",
      "720 and \n",
      " \n",
      "879 and \n",
      " not \n",
      "214 and \n",
      " not \n",
      "408 and \n",
      " not \n",
      "602 and \n"
     ]
    }
   ],
   "source": [
    "variables_list = list(variables_set)\n",
    "for i in range(function_length):\n",
    "    if(boolean_list[i] == 1):\n",
    "        print(' ')\n",
    "    else:\n",
    "        print(' not ')\n",
    "    print(str(variables_list[i]) + ' and ')\n",
    "# if j in list getIndex    "
   ]
  },
  {
   "cell_type": "code",
   "execution_count": 9,
   "id": "40088a58",
   "metadata": {},
   "outputs": [
    {
     "name": "stdout",
     "output_type": "stream",
     "text": [
      "[[1. 0. 0. ... 0. 1. 1.]\n",
      " [0. 1. 0. ... 0. 0. 1.]\n",
      " [0. 0. 1. ... 1. 0. 0.]\n",
      " ...\n",
      " [1. 0. 0. ... 0. 0. 0.]\n",
      " [0. 0. 0. ... 1. 1. 0.]\n",
      " [0. 0. 0. ... 0. 0. 1.]]\n"
     ]
    }
   ],
   "source": [
    "function_indexes = [1, 11, 15, 17, 20, 29, 30, 32, 34, 35, 38, 48, 53, 63, 70, 76, 77, 93, 94, 95]\n",
    "boolean_indexes = [1, 0, 0, 0, 1, 0, 1, 0, 1, 1, 1, 1, 0, 0, 1, 1, 1, 0, 1, 0]\n",
    "\n",
    "arr = np.zeros((data_length,n))\n",
    "for i in range(int(data_length/2)):\n",
    "    for j in range(n):\n",
    "       \n",
    "            \n",
    "        r = random.randint(0,1)\n",
    "            \n",
    "        arr[i][j] = r\n",
    "\n",
    "#positive examples        \n",
    "for i in range(int(data_length/2), data_length):\n",
    "    for j in range(n):\n",
    "        if (j in variables_list):\n",
    "            index = variables_list.index(j)\n",
    "            \n",
    "            \n",
    "            r = boolean_list[index]\n",
    "        else:\n",
    "            \n",
    "            r = random.randint(0,1)\n",
    "            \n",
    "        arr[i][j] = r        \n",
    "print(arr)"
   ]
  },
  {
   "cell_type": "code",
   "execution_count": 21,
   "id": "21c32950",
   "metadata": {},
   "outputs": [
    {
     "name": "stdout",
     "output_type": "stream",
     "text": [
      "19\n",
      "1\n"
     ]
    }
   ],
   "source": [
    "function_indexes = [2, 7, 8, 9, 12, 17, 19, 28, 30, 31, 34, 50, 61, 63, 64, 71, 73, 79, 81, 87]\n",
    "\n",
    "index = function_indexes.index(87)\n",
    "boolean_indexes = [1, 0, 1, 0, 0, 1, 1, 0, 0, 0, 0, 0, 0, 0, 1, 1, 1, 1, 0, 1]\n",
    "\n",
    "print(index)\n",
    "print(boolean_indexes[index])"
   ]
  },
  {
   "cell_type": "code",
   "execution_count": 10,
   "id": "b07f2a65",
   "metadata": {},
   "outputs": [],
   "source": [
    "def find_target(datapoint, bool_vec, index_vec):\n",
    "    s = 0\n",
    "    for i in range(0,function_length):\n",
    "        if(bool_vec[i] == 0):\n",
    "            datapoint[index_vec[i]] = abs(datapoint[index_vec[i]]-1)\n",
    "        s += datapoint[index_vec[i]]\n",
    "    if (s == function_length):\n",
    "        return 1\n",
    "    else:\n",
    "        return 0\n",
    "\n",
    "import os\n",
    "label = 1\n",
    "training_data = 'training_data_5.csv'   \n",
    "with open(training_data,'w') as f_out:\n",
    "    for i in range(data_length):\n",
    "        for j in range(n):\n",
    "            f_out.write(str(arr[i][j])+',')\n",
    "        label = find_target(arr[i], boolean_list, variables_list)\n",
    "        \n",
    "            \n",
    "            \n",
    "        f_out.write(str(label) + '\\n')    \n",
    "#start with dt.\n",
    "#increase d until good accuracy.\n"
   ]
  },
  {
   "cell_type": "markdown",
   "id": "4fb53f78",
   "metadata": {},
   "source": [
    "#"
   ]
  }
 ],
 "metadata": {
  "kernelspec": {
   "display_name": "Python 3 (ipykernel)",
   "language": "python",
   "name": "python3"
  },
  "language_info": {
   "codemirror_mode": {
    "name": "ipython",
    "version": 3
   },
   "file_extension": ".py",
   "mimetype": "text/x-python",
   "name": "python",
   "nbconvert_exporter": "python",
   "pygments_lexer": "ipython3",
   "version": "3.9.5"
  }
 },
 "nbformat": 4,
 "nbformat_minor": 5
}
